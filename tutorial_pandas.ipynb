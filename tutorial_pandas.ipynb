{
  "nbformat": 4,
  "nbformat_minor": 0,
  "metadata": {
    "colab": {
      "name": "tutorial-pandas.ipynb",
      "provenance": [],
      "include_colab_link": true
    },
    "kernelspec": {
      "name": "python3",
      "display_name": "Python 3"
    }
  },
  "cells": [
    {
      "cell_type": "markdown",
      "metadata": {
        "id": "view-in-github",
        "colab_type": "text"
      },
      "source": [
        "<a href=\"https://colab.research.google.com/github/Livcrst/Atividades/blob/master/tutorial_pandas.ipynb\" target=\"_parent\"><img src=\"https://colab.research.google.com/assets/colab-badge.svg\" alt=\"Open In Colab\"/></a>"
      ]
    },
    {
      "cell_type": "markdown",
      "metadata": {
        "id": "6Fe6-iAooyym",
        "colab_type": "text"
      },
      "source": [
        "# PANDAS"
      ]
    },
    {
      "cell_type": "markdown",
      "metadata": {
        "id": "Lue8YQUPCwRc",
        "colab_type": "text"
      },
      "source": [
        "# Importando a biblioteca PANDAS"
      ]
    },
    {
      "cell_type": "code",
      "metadata": {
        "id": "1Ly8gDyQ_kZZ",
        "colab_type": "code",
        "colab": {}
      },
      "source": [
        "import pandas as pd"
      ],
      "execution_count": null,
      "outputs": []
    },
    {
      "cell_type": "markdown",
      "metadata": {
        "id": "d-Gu92rtEJ1K",
        "colab_type": "text"
      },
      "source": [
        "#Visualização dos Dados"
      ]
    },
    {
      "cell_type": "markdown",
      "metadata": {
        "id": "7vqG0-TAERyD",
        "colab_type": "text"
      },
      "source": [
        "##MatPlotLib"
      ]
    },
    {
      "cell_type": "code",
      "metadata": {
        "id": "GxAtiyI1FBUf",
        "colab_type": "code",
        "colab": {}
      },
      "source": [
        "import pandas as pd\n",
        "\n",
        "df = pd.DataFrame({\n",
        "    'nome':['João','Maria','Pedro','José','Lucas','Luíza','Francisco'],\n",
        "    'idade':[23,78,22,19,45,33,20],\n",
        "    'genero':['M','F','M','M','M','F','M'],\n",
        "    'estado':['Amazonas','Pará','Amazonas','Pará','Amazonas','Ceará','Ceará'],\n",
        "    'num_filhos':[2,0,0,3,2,1,4],\n",
        "    'num_animais':[5,1,0,5,2,2,3]\n",
        "})"
      ],
      "execution_count": null,
      "outputs": []
    },
    {
      "cell_type": "code",
      "metadata": {
        "id": "HmDcBLtSsQBx",
        "colab_type": "code",
        "colab": {
          "base_uri": "https://localhost:8080/",
          "height": 204
        },
        "outputId": "4f1726fa-f4c0-4702-dc64-db85b023991f"
      },
      "source": [
        "df.head()"
      ],
      "execution_count": null,
      "outputs": [
        {
          "output_type": "execute_result",
          "data": {
            "text/html": [
              "<div>\n",
              "<style scoped>\n",
              "    .dataframe tbody tr th:only-of-type {\n",
              "        vertical-align: middle;\n",
              "    }\n",
              "\n",
              "    .dataframe tbody tr th {\n",
              "        vertical-align: top;\n",
              "    }\n",
              "\n",
              "    .dataframe thead th {\n",
              "        text-align: right;\n",
              "    }\n",
              "</style>\n",
              "<table border=\"1\" class=\"dataframe\">\n",
              "  <thead>\n",
              "    <tr style=\"text-align: right;\">\n",
              "      <th></th>\n",
              "      <th>nome</th>\n",
              "      <th>idade</th>\n",
              "      <th>genero</th>\n",
              "      <th>estado</th>\n",
              "      <th>num_filhos</th>\n",
              "      <th>num_animais</th>\n",
              "    </tr>\n",
              "  </thead>\n",
              "  <tbody>\n",
              "    <tr>\n",
              "      <th>0</th>\n",
              "      <td>João</td>\n",
              "      <td>23</td>\n",
              "      <td>M</td>\n",
              "      <td>Amazonas</td>\n",
              "      <td>2</td>\n",
              "      <td>5</td>\n",
              "    </tr>\n",
              "    <tr>\n",
              "      <th>1</th>\n",
              "      <td>Maria</td>\n",
              "      <td>78</td>\n",
              "      <td>F</td>\n",
              "      <td>Pará</td>\n",
              "      <td>0</td>\n",
              "      <td>1</td>\n",
              "    </tr>\n",
              "    <tr>\n",
              "      <th>2</th>\n",
              "      <td>Pedro</td>\n",
              "      <td>22</td>\n",
              "      <td>M</td>\n",
              "      <td>Amazonas</td>\n",
              "      <td>0</td>\n",
              "      <td>0</td>\n",
              "    </tr>\n",
              "    <tr>\n",
              "      <th>3</th>\n",
              "      <td>José</td>\n",
              "      <td>19</td>\n",
              "      <td>M</td>\n",
              "      <td>Pará</td>\n",
              "      <td>3</td>\n",
              "      <td>5</td>\n",
              "    </tr>\n",
              "    <tr>\n",
              "      <th>4</th>\n",
              "      <td>Lucas</td>\n",
              "      <td>45</td>\n",
              "      <td>M</td>\n",
              "      <td>Amazonas</td>\n",
              "      <td>2</td>\n",
              "      <td>2</td>\n",
              "    </tr>\n",
              "  </tbody>\n",
              "</table>\n",
              "</div>"
            ],
            "text/plain": [
              "    nome  idade genero    estado  num_filhos  num_animais\n",
              "0   João     23      M  Amazonas           2            5\n",
              "1  Maria     78      F      Pará           0            1\n",
              "2  Pedro     22      M  Amazonas           0            0\n",
              "3   José     19      M      Pará           3            5\n",
              "4  Lucas     45      M  Amazonas           2            2"
            ]
          },
          "metadata": {
            "tags": []
          },
          "execution_count": 3
        }
      ]
    },
    {
      "cell_type": "markdown",
      "metadata": {
        "id": "1gp40EI8Mvdq",
        "colab_type": "text"
      },
      "source": [
        "### Scatter Plot"
      ]
    },
    {
      "cell_type": "markdown",
      "metadata": {
        "id": "2kZD0eJBI9Lv",
        "colab_type": "text"
      },
      "source": [
        "É o gráfico de dispersão."
      ]
    },
    {
      "cell_type": "markdown",
      "metadata": {
        "id": "K7a-wGhUJBRL",
        "colab_type": "text"
      },
      "source": [
        "Exemplo 1:"
      ]
    },
    {
      "cell_type": "code",
      "metadata": {
        "id": "RL_SbOcXMxNA",
        "colab_type": "code",
        "colab": {
          "base_uri": "https://localhost:8080/",
          "height": 280
        },
        "outputId": "9e6c6d53-2a10-4cb0-b040-223867fc3b28"
      },
      "source": [
        "import matplotlib.pyplot as plt\n",
        "import pandas as pd\n",
        "\n",
        "df.plot(kind='scatter', x='num_filhos',y='num_animais')\n",
        "plt.show()"
      ],
      "execution_count": null,
      "outputs": [
        {
          "output_type": "display_data",
          "data": {
            "image/png": "[encoded data removed]",
            "text/plain": [
              "<Figure size 432x288 with 1 Axes>"
            ]
          },
          "metadata": {
            "tags": [],
            "needs_background": "light"
          }
        }
      ]
    },
    {
      "cell_type": "markdown",
      "metadata": {
        "id": "YHiC1nOvH3Gl",
        "colab_type": "text"
      },
      "source": [
        "### Configurações diversas dos gráficos"
      ]
    },
    {
      "cell_type": "markdown",
      "metadata": {
        "id": "0vjUEKIbIKKI",
        "colab_type": "text"
      },
      "source": [
        "##### Cores\n",
        "\n",
        "\n",
        "*   O atributo `color` ou `c` é usado para definir as cores.\n",
        "*   As cores estão em inglês.\n",
        "*   [Lista completa de cores](https://matplotlib.org/3.1.0/gallery/color/named_colors.html)\n",
        "\n"
      ]
    },
    {
      "cell_type": "markdown",
      "metadata": {
        "id": "Yy4i0a-KJVOF",
        "colab_type": "text"
      },
      "source": [
        "##### Transparência\n",
        "\n",
        "\n",
        "*   O atributo `alpha` define a transparência dos objetos.\n",
        "\n"
      ]
    },
    {
      "cell_type": "markdown",
      "metadata": {
        "id": "7vg3JBD-K5PY",
        "colab_type": "text"
      },
      "source": [
        "##### Marcadores\n",
        "\n",
        "\n",
        "*   É possível alterar o marcador através do atributo `marker`.\n",
        "*   [Lista completa de marcadores](https://matplotlib.org/api/markers_api.html)\n",
        "*   É possível também alterar o tamanho do marcador através do atributo `s`.\n",
        "\n"
      ]
    },
    {
      "cell_type": "markdown",
      "metadata": {
        "id": "ul0rkJ8WJ0EK",
        "colab_type": "text"
      },
      "source": [
        "##### Rótulos (labels) dos eixos\n",
        "\n",
        "\n",
        "*   O comando `xlabel` é usado para renomear o eixo X do gráfico.\n",
        "*   O comando `ylabel` é usado para renomear o eixo Y do gráfico.\n",
        "*   Esses comandos permitem alterar o tamanho da fonte através do atributo `fontsize`.\n",
        "\n"
      ]
    },
    {
      "cell_type": "markdown",
      "metadata": {
        "id": "4JjUAKo5JG_A",
        "colab_type": "text"
      },
      "source": [
        "Exemplo 2:"
      ]
    },
    {
      "cell_type": "code",
      "metadata": {
        "id": "sYL4hoZUJIUc",
        "colab_type": "code",
        "colab": {
          "base_uri": "https://localhost:8080/",
          "height": 282
        },
        "outputId": "b7c6fd37-d638-4dd1-90af-742384e36708"
      },
      "source": [
        "import matplotlib.pyplot as plt\n",
        "import pandas as pd\n",
        "\n",
        "df.plot(kind='scatter', x='num_filhos', y='num_animais', color='red', alpha=0.2, marker='*', s=90)\n",
        "plt.xlabel('Número de Filhos', fontsize=12)\n",
        "plt.ylabel('Número de Animais', fontsize=16)\n",
        "plt.show()"
      ],
      "execution_count": null,
      "outputs": [
        {
          "output_type": "display_data",
          "data": {
            "image/png": "[encoded data removed]",
            "text/plain": [
              "<Figure size 432x288 with 1 Axes>"
            ]
          },
          "metadata": {
            "tags": [],
            "needs_background": "light"
          }
        }
      ]
    },
    {
      "cell_type": "markdown",
      "metadata": {
        "id": "kFl_Dyi8NAPj",
        "colab_type": "text"
      },
      "source": [
        "### Bar Plot"
      ]
    },
    {
      "cell_type": "markdown",
      "metadata": {
        "id": "_fUZlfsDMJ0p",
        "colab_type": "text"
      },
      "source": [
        "É o gráfico de barras."
      ]
    },
    {
      "cell_type": "markdown",
      "metadata": {
        "id": "HxCPmDI-MOha",
        "colab_type": "text"
      },
      "source": [
        "Exemplo 1:"
      ]
    },
    {
      "cell_type": "code",
      "metadata": {
        "id": "qcPzmCoLNEkg",
        "colab_type": "code",
        "colab": {
          "base_uri": "https://localhost:8080/",
          "height": 333
        },
        "outputId": "92bbde8e-1c8d-4b90-f0ec-4a2eb9d3660d"
      },
      "source": [
        "df.plot(kind='bar',x='nome',y='idade')"
      ],
      "execution_count": null,
      "outputs": [
        {
          "output_type": "execute_result",
          "data": {
            "text/plain": [
              "<matplotlib.axes._subplots.AxesSubplot at 0x7fd7e4d65a90>"
            ]
          },
          "metadata": {
            "tags": []
          },
          "execution_count": 7
        },
        {
          "output_type": "display_data",
          "data": {
            "image/png": "[encoded data removed]",
            "text/plain": [
              "<Figure size 432x288 with 1 Axes>"
            ]
          },
          "metadata": {
            "tags": [],
            "needs_background": "light"
          }
        }
      ]
    },
    {
      "cell_type": "markdown",
      "metadata": {
        "id": "KhuWvHxeM42g",
        "colab_type": "text"
      },
      "source": [
        "##### Outras configurações:\n",
        "\n",
        "*   É possível usar os mesmos atributos do gráfico anterior.\n",
        "*   O atributo `label` permite renomear a legenda.\n",
        "*   O atributo `loc` permite mudar a posição da legenda no gráfico.\n",
        "*   [Lista completa com os posicionamentos da legenda.](https://matplotlib.org/api/_as_gen/matplotlib.pyplot.legend.html)\n",
        "\n"
      ]
    },
    {
      "cell_type": "markdown",
      "metadata": {
        "id": "LmLrme9OMTDZ",
        "colab_type": "text"
      },
      "source": [
        "Exemplo 2:"
      ]
    },
    {
      "cell_type": "code",
      "metadata": {
        "id": "3I7ZPfKzMVMj",
        "colab_type": "code",
        "colab": {}
      },
      "source": [
        "df.plot(kind='bar', x='nome', y='idade', color = 'red', label='Age')\n",
        "plt.legend(loc='upper left')"
      ],
      "execution_count": null,
      "outputs": []
    },
    {
      "cell_type": "markdown",
      "metadata": {
        "id": "wCN1KaQbNgTG",
        "colab_type": "text"
      },
      "source": [
        "### Line Plot"
      ]
    },
    {
      "cell_type": "markdown",
      "metadata": {
        "id": "tN5walicNKdM",
        "colab_type": "text"
      },
      "source": [
        "É o gráfico de linhas."
      ]
    },
    {
      "cell_type": "markdown",
      "metadata": {
        "id": "bxkQ5Hh8NNmT",
        "colab_type": "text"
      },
      "source": [
        "Exemplo 1:"
      ]
    },
    {
      "cell_type": "code",
      "metadata": {
        "id": "MW2cjb0XNhle",
        "colab_type": "code",
        "colab": {
          "base_uri": "https://localhost:8080/",
          "height": 280
        },
        "outputId": "5f452bac-2e67-4a4c-a0f2-7077f3148104"
      },
      "source": [
        "# gca stands for 'get current axis'\n",
        "ax = plt.gca()\n",
        "\n",
        "df.plot(kind='line',x='nome',y='num_filhos',ax=ax)\n",
        "df.plot(kind='line',x='nome',y='num_animais', color='red', ax=ax)\n",
        "\n",
        "plt.show()"
      ],
      "execution_count": null,
      "outputs": [
        {
          "output_type": "display_data",
          "data": {
            "image/png": "[encoded data removed]",
            "text/plain": [
              "<Figure size 432x288 with 1 Axes>"
            ]
          },
          "metadata": {
            "tags": [],
            "needs_background": "light"
          }
        }
      ]
    },
    {
      "cell_type": "markdown",
      "metadata": {
        "id": "bbdWjWSPObia",
        "colab_type": "text"
      },
      "source": [
        "### Gráfico de barras agrupado"
      ]
    },
    {
      "cell_type": "markdown",
      "metadata": {
        "id": "YD0FIqsjPDt_",
        "colab_type": "text"
      },
      "source": [
        "É possível agrupar os dados no gráfico de barras."
      ]
    },
    {
      "cell_type": "markdown",
      "metadata": {
        "id": "W0V_4AhWPHow",
        "colab_type": "text"
      },
      "source": [
        "Exemplo 1:"
      ]
    },
    {
      "cell_type": "code",
      "metadata": {
        "id": "gwj0cMqFOeHj",
        "colab_type": "code",
        "colab": {
          "base_uri": "https://localhost:8080/",
          "height": 321
        },
        "outputId": "2fe009ea-e923-4b36-e8b8-cadf4428f847"
      },
      "source": [
        "df.groupby('estado')['nome'].nunique().plot(kind='bar')\n",
        "plt.show()"
      ],
      "execution_count": null,
      "outputs": [
        {
          "output_type": "display_data",
          "data": {
            "image/png": "[encoded data removed]",
            "text/plain": [
              "<Figure size 432x288 with 1 Axes>"
            ]
          },
          "metadata": {
            "tags": [],
            "needs_background": "light"
          }
        }
      ]
    },
    {
      "cell_type": "markdown",
      "metadata": {
        "id": "oiuaBGOoQFA5",
        "colab_type": "text"
      },
      "source": [
        "### Pie (gráfico de pizza)"
      ]
    },
    {
      "cell_type": "markdown",
      "metadata": {
        "id": "xR_bj243PLhW",
        "colab_type": "text"
      },
      "source": [
        "É o gráfico de pizza."
      ]
    },
    {
      "cell_type": "code",
      "metadata": {
        "id": "4VQjx4ZuPf36",
        "colab_type": "code",
        "colab": {
          "base_uri": "https://localhost:8080/",
          "height": 265
        },
        "outputId": "cf8e335f-3cfa-4ef7-ccfc-5a43c4297128"
      },
      "source": [
        "df.plot.pie(y='num_animais')"
      ],
      "execution_count": null,
      "outputs": [
        {
          "output_type": "execute_result",
          "data": {
            "text/plain": [
              "<matplotlib.axes._subplots.AxesSubplot at 0x7fd7e4be9f60>"
            ]
          },
          "metadata": {
            "tags": []
          },
          "execution_count": 10
        },
        {
          "output_type": "display_data",
          "data": {
            "image/png": "[encoded data removed]",
            "text/plain": [
              "<Figure size 432x288 with 1 Axes>"
            ]
          },
          "metadata": {
            "tags": []
          }
        }
      ]
    },
    {
      "cell_type": "markdown",
      "metadata": {
        "id": "liSLFH0YOExo",
        "colab_type": "text"
      },
      "source": [
        "### Salvar o arquivo\n",
        "\n",
        "Usar o comando `plt.savefig(<nome do arquivo>)`"
      ]
    },
    {
      "cell_type": "code",
      "metadata": {
        "id": "lrPI9XqTORca",
        "colab_type": "code",
        "colab": {
          "base_uri": "https://localhost:8080/",
          "height": 316
        },
        "outputId": "9fde9a71-7ffb-42c7-c98c-bb37c55eb40e"
      },
      "source": [
        "df.plot(kind='bar', x='nome', y='idade')\n",
        "plt.savefig('grafico.png')"
      ],
      "execution_count": null,
      "outputs": [
        {
          "output_type": "display_data",
          "data": {
            "image/png": "[encoded data removed]",
            "text/plain": [
              "<Figure size 432x288 with 1 Axes>"
            ]
          },
          "metadata": {
            "tags": [],
            "needs_background": "light"
          }
        }
      ]
    }
  ]
}